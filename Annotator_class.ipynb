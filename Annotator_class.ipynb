{
 "cells": [
  {
   "cell_type": "code",
   "execution_count": 1,
   "metadata": {
    "ExecuteTime": {
     "end_time": "2020-08-26T12:10:58.566242Z",
     "start_time": "2020-08-26T12:10:58.526247Z"
    },
    "scrolled": true
   },
   "outputs": [],
   "source": [
    "%load_ext autoreload\n",
    "%autoreload 2"
   ]
  },
  {
   "cell_type": "code",
   "execution_count": 2,
   "metadata": {
    "ExecuteTime": {
     "end_time": "2020-08-26T12:11:02.941680Z",
     "start_time": "2020-08-26T12:10:59.265611Z"
    },
    "scrolled": true
   },
   "outputs": [],
   "source": [
    "from Annotator import Annotator\n",
    "import pandas as pd\n",
    "import ast"
   ]
  },
  {
   "cell_type": "code",
   "execution_count": 3,
   "metadata": {
    "ExecuteTime": {
     "end_time": "2020-08-26T12:11:02.971202Z",
     "start_time": "2020-08-26T12:11:02.961196Z"
    },
    "scrolled": true
   },
   "outputs": [],
   "source": [
    "def reported_category(text):\n",
    "    try:\n",
    "        text = text.split('in the')[1]\n",
    "        text = text.split('category')\n",
    "        return text[0]\n",
    "    except IndexError:\n",
    "        return None"
   ]
  },
  {
   "cell_type": "code",
   "execution_count": 4,
   "metadata": {
    "ExecuteTime": {
     "end_time": "2020-08-26T12:11:03.215329Z",
     "start_time": "2020-08-26T12:11:02.984663Z"
    },
    "scrolled": true
   },
   "outputs": [],
   "source": [
    "# choose data file here\n",
    "START_END = '0_100'\n",
    "df = pd.read_csv(f'fms_data_{START_END}.csv').drop(['Unnamed: 0.1', 'Unnamed: 0'], axis = 1)\n",
    "\n",
    "df['images'] = df['images'].apply(lambda x: ast.literal_eval(x))"
   ]
  },
  {
   "cell_type": "code",
   "execution_count": 5,
   "metadata": {
    "ExecuteTime": {
     "end_time": "2020-08-26T12:11:03.545983Z",
     "start_time": "2020-08-26T12:11:03.519304Z"
    },
    "scrolled": true
   },
   "outputs": [],
   "source": [
    "from IPython.display import display, Image\n",
    "\n",
    "annotations = Annotator(\n",
    "  df,\n",
    "  options=[\"--Select--\",\n",
    "           \"Flytipping\",\n",
    "        \"Pavements/footpaths\",\n",
    "        \"Potholes\",\n",
    "        \"Roads/highways\",\n",
    "        \"Trees\",\n",
    "        \"Abandoned Vehicles\",\n",
    "        \"Street Cleansing\",\n",
    "        \"Car Parking\",\n",
    "        \"Rubbish (refuse and recycling)\",\n",
    "        \"Graffiti\",\n",
    "        \"Drainage\",\n",
    "        \"Park/Landscapes\",\n",
    "        \"Obstruction\",\n",
    "        \"Street lighting\"],\n",
    "  display_fn=lambda filename: display(Image(filename))\n",
    ")"
   ]
  },
  {
   "cell_type": "code",
   "execution_count": 6,
   "metadata": {
    "ExecuteTime": {
     "end_time": "2020-08-26T12:11:04.832212Z",
     "start_time": "2020-08-26T12:11:04.724554Z"
    },
    "scrolled": false
   },
   "outputs": [
    {
     "data": {
      "application/vnd.jupyter.widget-view+json": {
       "model_id": "432e1745814c4b1b953ed21cec382dbc",
       "version_major": 2,
       "version_minor": 0
      },
      "text/plain": [
       "HTML(value='0 examples annotated, 101 examples left')"
      ]
     },
     "metadata": {},
     "output_type": "display_data"
    },
    {
     "data": {
      "application/vnd.jupyter.widget-view+json": {
       "model_id": "5b5bda564df049bebbb632a44b9dfd2d",
       "version_major": 2,
       "version_minor": 0
      },
      "text/plain": [
       "Dropdown(options=('--Select--', 'Flytipping', 'Pavements/footpaths', 'Potholes', 'Roads/highways', 'Trees', 'A…"
      ]
     },
     "metadata": {},
     "output_type": "display_data"
    },
    {
     "data": {
      "application/vnd.jupyter.widget-view+json": {
       "model_id": "d7ddc7dc2d3d48ae8ca00f53c1b944ca",
       "version_major": 2,
       "version_minor": 0
      },
      "text/plain": [
       "Textarea(value='')"
      ]
     },
     "metadata": {},
     "output_type": "display_data"
    },
    {
     "data": {
      "application/vnd.jupyter.widget-view+json": {
       "model_id": "e8e6b968c4b24271abad7960bcb4b63c",
       "version_major": 2,
       "version_minor": 0
      },
      "text/plain": [
       "HBox(children=(Button(button_style='success', description='submit', style=ButtonStyle()),))"
      ]
     },
     "metadata": {},
     "output_type": "display_data"
    },
    {
     "data": {
      "application/vnd.jupyter.widget-view+json": {
       "model_id": "8c5ac29e89a945bda171c4f67448df57",
       "version_major": 2,
       "version_minor": 0
      },
      "text/plain": [
       "Output()"
      ]
     },
     "metadata": {},
     "output_type": "display_data"
    }
   ],
   "source": [
    "annotations.annotate()"
   ]
  },
  {
   "cell_type": "markdown",
   "metadata": {},
   "source": [
    "## Check the annotated labels"
   ]
  },
  {
   "cell_type": "code",
   "execution_count": 7,
   "metadata": {
    "ExecuteTime": {
     "end_time": "2020-08-26T12:11:10.031936Z",
     "start_time": "2020-08-26T12:11:09.999251Z"
    },
    "scrolled": true
   },
   "outputs": [
    {
     "data": {
      "text/html": [
       "<div>\n",
       "<style scoped>\n",
       "    .dataframe tbody tr th:only-of-type {\n",
       "        vertical-align: middle;\n",
       "    }\n",
       "\n",
       "    .dataframe tbody tr th {\n",
       "        vertical-align: top;\n",
       "    }\n",
       "\n",
       "    .dataframe thead th {\n",
       "        text-align: right;\n",
       "    }\n",
       "</style>\n",
       "<table border=\"1\" class=\"dataframe\">\n",
       "  <thead>\n",
       "    <tr style=\"text-align: right;\">\n",
       "      <th></th>\n",
       "      <th>link</th>\n",
       "      <th>label</th>\n",
       "      <th>caption</th>\n",
       "    </tr>\n",
       "  </thead>\n",
       "  <tbody>\n",
       "  </tbody>\n",
       "</table>\n",
       "</div>"
      ],
      "text/plain": [
       "Empty DataFrame\n",
       "Columns: [link, label, caption]\n",
       "Index: []"
      ]
     },
     "execution_count": 7,
     "metadata": {},
     "output_type": "execute_result"
    }
   ],
   "source": [
    "annotated_fms = annotations.get_annotated_examples()\n",
    "annotated_fms"
   ]
  },
  {
   "cell_type": "markdown",
   "metadata": {},
   "source": [
    "## If you need to make any changes do this\n",
    "However, do this at the very end before you are about to save the file"
   ]
  },
  {
   "cell_type": "code",
   "execution_count": null,
   "metadata": {
    "ExecuteTime": {
     "end_time": "2020-08-24T17:06:51.581168Z",
     "start_time": "2020-08-24T17:06:51.003Z"
    },
    "scrolled": true
   },
   "outputs": [],
   "source": [
    "# annotated_fms.iloc[2, 1] = \"Pavement\""
   ]
  },
  {
   "cell_type": "markdown",
   "metadata": {},
   "source": [
    "## Save the file\n",
    "Name the file as `annotated_fms_<START_INDEX>_<END_INDEX>.csv`"
   ]
  },
  {
   "cell_type": "code",
   "execution_count": 19,
   "metadata": {
    "ExecuteTime": {
     "end_time": "2020-08-25T21:41:00.590336Z",
     "start_time": "2020-08-25T21:41:00.570655Z"
    },
    "scrolled": true
   },
   "outputs": [
    {
     "name": "stdout",
     "output_type": "stream",
     "text": [
      "Delete the file first\n"
     ]
    }
   ],
   "source": [
    "import os\n",
    "if not os.path.exists(f\"annotated_fms_{START_END}.csv\"):\n",
    "    annotated_fms.to_csv(f\"annotated_fms_{START_END}.csv\")\n",
    "else:\n",
    "    print(\"Delete the file first\")"
   ]
  },
  {
   "cell_type": "code",
   "execution_count": 18,
   "metadata": {
    "ExecuteTime": {
     "end_time": "2020-08-25T21:40:40.184459Z",
     "start_time": "2020-08-25T21:40:40.171119Z"
    }
   },
   "outputs": [
    {
     "data": {
      "text/plain": [
       "True"
      ]
     },
     "execution_count": 18,
     "metadata": {},
     "output_type": "execute_result"
    }
   ],
   "source": [
    "os.path.exists(f\"annotated_fms_{START_END}.csv\")"
   ]
  },
  {
   "cell_type": "code",
   "execution_count": null,
   "metadata": {},
   "outputs": [],
   "source": []
  }
 ],
 "metadata": {
  "kernelspec": {
   "display_name": "Python 3",
   "language": "python",
   "name": "python3"
  },
  "language_info": {
   "codemirror_mode": {
    "name": "ipython",
    "version": 3
   },
   "file_extension": ".py",
   "mimetype": "text/x-python",
   "name": "python",
   "nbconvert_exporter": "python",
   "pygments_lexer": "ipython3",
   "version": "3.7.6"
  },
  "varInspector": {
   "cols": {
    "lenName": 16,
    "lenType": 16,
    "lenVar": 40
   },
   "kernels_config": {
    "python": {
     "delete_cmd_postfix": "",
     "delete_cmd_prefix": "del ",
     "library": "var_list.py",
     "varRefreshCmd": "print(var_dic_list())"
    },
    "r": {
     "delete_cmd_postfix": ") ",
     "delete_cmd_prefix": "rm(",
     "library": "var_list.r",
     "varRefreshCmd": "cat(var_dic_list()) "
    }
   },
   "oldHeight": 339,
   "position": {
    "height": "40px",
    "left": "1540px",
    "right": "20px",
    "top": "120px",
    "width": "360px"
   },
   "types_to_exclude": [
    "module",
    "function",
    "builtin_function_or_method",
    "instance",
    "_Feature"
   ],
   "varInspector_section_display": "none",
   "window_display": true
  }
 },
 "nbformat": 4,
 "nbformat_minor": 4
}
