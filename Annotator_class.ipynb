{
 "cells": [
  {
   "cell_type": "code",
   "execution_count": 1,
   "metadata": {
    "ExecuteTime": {
     "end_time": "2020-08-25T11:41:57.460119Z",
     "start_time": "2020-08-25T11:41:57.384878Z"
    },
    "scrolled": true
   },
   "outputs": [],
   "source": [
    "%load_ext autoreload\n",
    "%autoreload 2"
   ]
  },
  {
   "cell_type": "code",
   "execution_count": 2,
   "metadata": {
    "ExecuteTime": {
     "end_time": "2020-08-25T11:42:01.220879Z",
     "start_time": "2020-08-25T11:41:57.690175Z"
    },
    "scrolled": true
   },
   "outputs": [],
   "source": [
    "from Annotator import Annotator\n",
    "import pandas as pd\n",
    "import ast"
   ]
  },
  {
   "cell_type": "code",
   "execution_count": 3,
   "metadata": {
    "ExecuteTime": {
     "end_time": "2020-08-25T11:42:01.268571Z",
     "start_time": "2020-08-25T11:42:01.251934Z"
    },
    "scrolled": true
   },
   "outputs": [],
   "source": [
    "def reported_category(text):\n",
    "    try:\n",
    "        text = text.split('in the')[1]\n",
    "        text = text.split('category')\n",
    "        return text[0]\n",
    "    except IndexError:\n",
    "        return None"
   ]
  },
  {
   "cell_type": "code",
   "execution_count": 8,
   "metadata": {
    "ExecuteTime": {
     "end_time": "2020-08-25T11:43:50.923085Z",
     "start_time": "2020-08-25T11:43:50.889960Z"
    },
    "scrolled": true
   },
   "outputs": [],
   "source": [
    "# choose data file here\n",
    "START_END = '0_100'\n",
    "df = pd.read_csv(f'fms_data_{START_END}.csv').drop(['Unnamed: 0.1', 'Unnamed: 0'], axis = 1)\n",
    "\n",
    "df['images'] = df['images'].apply(lambda x: ast.literal_eval(x))"
   ]
  },
  {
   "cell_type": "code",
   "execution_count": 9,
   "metadata": {
    "ExecuteTime": {
     "end_time": "2020-08-25T11:43:53.203407Z",
     "start_time": "2020-08-25T11:43:53.177090Z"
    },
    "scrolled": true
   },
   "outputs": [],
   "source": [
    "from IPython.display import display, Image\n",
    "\n",
    "annotations = Annotator(\n",
    "  df,\n",
    "  options=[\"--Select--\",\n",
    "           \"Flytipping\",\n",
    "        \"Pavements/footpaths\",\n",
    "        \"Potholes\",\n",
    "        \"Roads/highways\",\n",
    "        \"Trees\",\n",
    "        \"Abandoned Vehicles\",\n",
    "        \"Street Cleansing\",\n",
    "        \"Car Parking\",\n",
    "        \"Rubbish (refuse and recycling)\",\n",
    "        \"Graffiti\",\n",
    "        \"Drainage\",\n",
    "        \"Park/Landscapes\",\n",
    "        \"Obstruction\",\n",
    "        \"Street lighting\"],\n",
    "  display_fn=lambda filename: display(Image(filename))\n",
    ")"
   ]
  },
  {
   "cell_type": "code",
   "execution_count": 10,
   "metadata": {
    "ExecuteTime": {
     "end_time": "2020-08-25T11:43:54.393304Z",
     "start_time": "2020-08-25T11:43:54.323263Z"
    },
    "scrolled": false
   },
   "outputs": [
    {
     "data": {
      "application/vnd.jupyter.widget-view+json": {
       "model_id": "c9783e7a5098412f8d0c39e0e334cace",
       "version_major": 2,
       "version_minor": 0
      },
      "text/plain": [
       "HTML(value='0 examples annotated, 101 examples left')"
      ]
     },
     "metadata": {},
     "output_type": "display_data"
    },
    {
     "data": {
      "application/vnd.jupyter.widget-view+json": {
       "model_id": "adc6fac183b54881957b763814c18f98",
       "version_major": 2,
       "version_minor": 0
      },
      "text/plain": [
       "Dropdown(options=('--Select--', 'Flytipping', 'Pavements/footpaths', 'Potholes', 'Roads/highways', 'Trees', 'A…"
      ]
     },
     "metadata": {},
     "output_type": "display_data"
    },
    {
     "data": {
      "application/vnd.jupyter.widget-view+json": {
       "model_id": "94edf68e0b8f4be088c452653d75f8cf",
       "version_major": 2,
       "version_minor": 0
      },
      "text/plain": [
       "Textarea(value='')"
      ]
     },
     "metadata": {},
     "output_type": "display_data"
    },
    {
     "data": {
      "application/vnd.jupyter.widget-view+json": {
       "model_id": "8d16279babe34ab985ef88cbb3b4f2aa",
       "version_major": 2,
       "version_minor": 0
      },
      "text/plain": [
       "HBox(children=(Button(button_style='success', description='submit', style=ButtonStyle()),))"
      ]
     },
     "metadata": {},
     "output_type": "display_data"
    },
    {
     "data": {
      "application/vnd.jupyter.widget-view+json": {
       "model_id": "36dbf4963f5e479c9ba1abd380d4a619",
       "version_major": 2,
       "version_minor": 0
      },
      "text/plain": [
       "Output()"
      ]
     },
     "metadata": {},
     "output_type": "display_data"
    }
   ],
   "source": [
    "annotations.annotate()"
   ]
  },
  {
   "cell_type": "markdown",
   "metadata": {},
   "source": [
    "## Check the annotated labels"
   ]
  },
  {
   "cell_type": "code",
   "execution_count": 14,
   "metadata": {
    "ExecuteTime": {
     "end_time": "2020-08-25T21:38:11.683694Z",
     "start_time": "2020-08-25T21:38:11.655908Z"
    },
    "scrolled": true
   },
   "outputs": [
    {
     "data": {
      "text/html": [
       "<div>\n",
       "<style scoped>\n",
       "    .dataframe tbody tr th:only-of-type {\n",
       "        vertical-align: middle;\n",
       "    }\n",
       "\n",
       "    .dataframe tbody tr th {\n",
       "        vertical-align: top;\n",
       "    }\n",
       "\n",
       "    .dataframe thead th {\n",
       "        text-align: right;\n",
       "    }\n",
       "</style>\n",
       "<table border=\"1\" class=\"dataframe\">\n",
       "  <thead>\n",
       "    <tr style=\"text-align: right;\">\n",
       "      <th></th>\n",
       "      <th>link</th>\n",
       "      <th>label</th>\n",
       "      <th>caption</th>\n",
       "    </tr>\n",
       "  </thead>\n",
       "  <tbody>\n",
       "    <tr>\n",
       "      <th>0</th>\n",
       "      <td>https://www.fixmystreet.com/report/1559968</td>\n",
       "      <td>Potholes</td>\n",
       "      <td>There are potholes on the road and this needs ...</td>\n",
       "    </tr>\n",
       "    <tr>\n",
       "      <th>1</th>\n",
       "      <td>https://www.fixmystreet.com/report/1559981</td>\n",
       "      <td>Flytipping</td>\n",
       "      <td>dumped rubbish under the dog poo bin on the fo...</td>\n",
       "    </tr>\n",
       "    <tr>\n",
       "      <th>2</th>\n",
       "      <td>https://www.fixmystreet.com/report/1559983</td>\n",
       "      <td>Drainage</td>\n",
       "      <td>asdfasdlkfj</td>\n",
       "    </tr>\n",
       "  </tbody>\n",
       "</table>\n",
       "</div>"
      ],
      "text/plain": [
       "                                         link       label  \\\n",
       "0  https://www.fixmystreet.com/report/1559968    Potholes   \n",
       "1  https://www.fixmystreet.com/report/1559981  Flytipping   \n",
       "2  https://www.fixmystreet.com/report/1559983    Drainage   \n",
       "\n",
       "                                             caption  \n",
       "0  There are potholes on the road and this needs ...  \n",
       "1  dumped rubbish under the dog poo bin on the fo...  \n",
       "2                                        asdfasdlkfj  "
      ]
     },
     "execution_count": 14,
     "metadata": {},
     "output_type": "execute_result"
    }
   ],
   "source": [
    "annotated_fms = annotations.get_annotated_examples()\n",
    "annotated_fms"
   ]
  },
  {
   "cell_type": "markdown",
   "metadata": {},
   "source": [
    "## If you need to make any changes do this\n",
    "However, do this at the very end before you are about to save the file"
   ]
  },
  {
   "cell_type": "code",
   "execution_count": null,
   "metadata": {
    "ExecuteTime": {
     "end_time": "2020-08-24T17:06:51.581168Z",
     "start_time": "2020-08-24T17:06:51.003Z"
    },
    "scrolled": true
   },
   "outputs": [],
   "source": [
    "# annotated_fms.iloc[2, 1] = \"Pavement\""
   ]
  },
  {
   "cell_type": "markdown",
   "metadata": {},
   "source": [
    "## Save the file\n",
    "Name the file as `annotated_fms_<START_INDEX>_<END_INDEX>.csv`"
   ]
  },
  {
   "cell_type": "code",
   "execution_count": 19,
   "metadata": {
    "ExecuteTime": {
     "end_time": "2020-08-25T21:41:00.590336Z",
     "start_time": "2020-08-25T21:41:00.570655Z"
    },
    "scrolled": true
   },
   "outputs": [
    {
     "name": "stdout",
     "output_type": "stream",
     "text": [
      "Delete the file first\n"
     ]
    }
   ],
   "source": [
    "import os\n",
    "if not os.path.exists(f\"annotated_fms_{START_END}.csv\"):\n",
    "    annotated_fms.to_csv(f\"annotated_fms_{START_END}.csv\")\n",
    "else:\n",
    "    print(\"Delete the file first\")"
   ]
  },
  {
   "cell_type": "code",
   "execution_count": 18,
   "metadata": {
    "ExecuteTime": {
     "end_time": "2020-08-25T21:40:40.184459Z",
     "start_time": "2020-08-25T21:40:40.171119Z"
    }
   },
   "outputs": [
    {
     "data": {
      "text/plain": [
       "True"
      ]
     },
     "execution_count": 18,
     "metadata": {},
     "output_type": "execute_result"
    }
   ],
   "source": [
    "os.path.exists(f\"annotated_fms_{START_END}.csv\")"
   ]
  },
  {
   "cell_type": "code",
   "execution_count": null,
   "metadata": {},
   "outputs": [],
   "source": []
  }
 ],
 "metadata": {
  "kernelspec": {
   "display_name": "Python 3",
   "language": "python",
   "name": "python3"
  },
  "language_info": {
   "codemirror_mode": {
    "name": "ipython",
    "version": 3
   },
   "file_extension": ".py",
   "mimetype": "text/x-python",
   "name": "python",
   "nbconvert_exporter": "python",
   "pygments_lexer": "ipython3",
   "version": "3.7.6"
  },
  "varInspector": {
   "cols": {
    "lenName": 16,
    "lenType": 16,
    "lenVar": 40
   },
   "kernels_config": {
    "python": {
     "delete_cmd_postfix": "",
     "delete_cmd_prefix": "del ",
     "library": "var_list.py",
     "varRefreshCmd": "print(var_dic_list())"
    },
    "r": {
     "delete_cmd_postfix": ") ",
     "delete_cmd_prefix": "rm(",
     "library": "var_list.r",
     "varRefreshCmd": "cat(var_dic_list()) "
    }
   },
   "oldHeight": 339,
   "position": {
    "height": "40px",
    "left": "1540px",
    "right": "20px",
    "top": "120px",
    "width": "360px"
   },
   "types_to_exclude": [
    "module",
    "function",
    "builtin_function_or_method",
    "instance",
    "_Feature"
   ],
   "varInspector_section_display": "none",
   "window_display": true
  }
 },
 "nbformat": 4,
 "nbformat_minor": 4
}
