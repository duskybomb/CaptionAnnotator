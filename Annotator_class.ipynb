{
 "cells": [
  {
   "cell_type": "code",
   "execution_count": null,
   "metadata": {
    "ExecuteTime": {
     "end_time": "2020-08-24T17:06:51.000563Z",
     "start_time": "2020-08-24T17:06:50.991598Z"
    },
    "scrolled": true
   },
   "outputs": [],
   "source": [
    "%load_ext autoreload\n",
    "%autoreload 2"
   ]
  },
  {
   "cell_type": "code",
   "execution_count": null,
   "metadata": {
    "ExecuteTime": {
     "end_time": "2020-08-24T17:06:51.436833Z",
     "start_time": "2020-08-24T17:06:51.002015Z"
    },
    "scrolled": true
   },
   "outputs": [],
   "source": [
    "from Annotator import Annotator\n",
    "import pandas as pd\n",
    "import ast"
   ]
  },
  {
   "cell_type": "code",
   "execution_count": null,
   "metadata": {
    "ExecuteTime": {
     "end_time": "2020-08-24T17:06:51.450308Z",
     "start_time": "2020-08-24T17:06:51.438359Z"
    },
    "scrolled": true
   },
   "outputs": [],
   "source": [
    "def reported_category(text):\n",
    "    try:\n",
    "        text = text.split('in the')[1]\n",
    "        text = text.split('category')\n",
    "        return text[0]\n",
    "    except IndexError:\n",
    "        return None"
   ]
  },
  {
   "cell_type": "code",
   "execution_count": null,
   "metadata": {
    "ExecuteTime": {
     "end_time": "2020-08-24T17:10:22.416083Z",
     "start_time": "2020-08-24T17:10:22.396222Z"
    },
    "scrolled": true
   },
   "outputs": [],
   "source": [
    "# choose data file here\n",
    "START_END = '1100_1200'\n",
    "df = pd.read_csv(f'fms_data_{START_END}.csv').drop(['Unnamed: 0.1', 'Unnamed: 0'], axis = 1)\n",
    "\n",
    "df['images'] = df['images'].apply(lambda x: ast.literal_eval(x))"
   ]
  },
  {
   "cell_type": "code",
   "execution_count": null,
   "metadata": {
    "ExecuteTime": {
     "end_time": "2020-08-24T17:10:23.498713Z",
     "start_time": "2020-08-24T17:10:23.485407Z"
    },
    "scrolled": true
   },
   "outputs": [],
   "source": [
    "from IPython.display import display, Image\n",
    "\n",
    "annotations = Annotator(\n",
    "  df,\n",
    "  options=[\"--Select--\",\n",
    "           \"Flytipping\",\n",
    "        \"Pavements/footpaths\",\n",
    "        \"Potholes\",\n",
    "        \"Roads/highways\",\n",
    "        \"Trees\",\n",
    "        \"Abandoned Vehicles\",\n",
    "        \"Street Cleansing\",\n",
    "        \"Car Parking\",\n",
    "        \"Rubbish (refuse and recycling)\",\n",
    "        \"Graffiti\",\n",
    "        \"Drainage\",\n",
    "        \"Park/Landscapes\",\n",
    "        \"Obstruction\",\n",
    "        \"Street lighting\"],\n",
    "  display_fn=lambda filename: display(Image(filename))\n",
    ")"
   ]
  },
  {
   "cell_type": "code",
   "execution_count": null,
   "metadata": {
    "ExecuteTime": {
     "end_time": "2020-08-24T17:10:24.411565Z",
     "start_time": "2020-08-24T17:10:24.360053Z"
    },
    "scrolled": true
   },
   "outputs": [],
   "source": [
    "annotations.annotate()"
   ]
  },
  {
   "cell_type": "markdown",
   "metadata": {},
   "source": [
    "## Check the annotated labels"
   ]
  },
  {
   "cell_type": "code",
   "execution_count": null,
   "metadata": {
    "ExecuteTime": {
     "end_time": "2020-08-24T17:10:48.471152Z",
     "start_time": "2020-08-24T17:10:48.429093Z"
    },
    "scrolled": true
   },
   "outputs": [],
   "source": [
    "annotated_fms = annotations.get_annotated_examples()\n",
    "annotated_fms"
   ]
  },
  {
   "cell_type": "markdown",
   "metadata": {},
   "source": [
    "## If you need to make any changes do this\n",
    "However, do this at the very end before you are about to save the file"
   ]
  },
  {
   "cell_type": "code",
   "execution_count": null,
   "metadata": {
    "ExecuteTime": {
     "end_time": "2020-08-24T17:06:51.581168Z",
     "start_time": "2020-08-24T17:06:51.003Z"
    },
    "scrolled": true
   },
   "outputs": [],
   "source": [
    "# annotated_fms.iloc[37, 1] = \"Potholes\""
   ]
  },
  {
   "cell_type": "markdown",
   "metadata": {},
   "source": [
    "## Save the file\n",
    "Name the file as `annotated_fms_<START_INDEX>_<END_INDEX>.csv`"
   ]
  },
  {
   "cell_type": "code",
   "execution_count": null,
   "metadata": {
    "ExecuteTime": {
     "end_time": "2020-08-24T17:06:51.582123Z",
     "start_time": "2020-08-24T17:06:51.005Z"
    },
    "scrolled": true
   },
   "outputs": [],
   "source": [
    "annotated_fms.to_csv(f\"annotated_fms_{START_END}.csv\")"
   ]
  }
 ],
 "metadata": {
  "kernelspec": {
   "display_name": "Python 3",
   "language": "python",
   "name": "python3"
  },
  "language_info": {
   "codemirror_mode": {
    "name": "ipython",
    "version": 3
   },
   "file_extension": ".py",
   "mimetype": "text/x-python",
   "name": "python",
   "nbconvert_exporter": "python",
   "pygments_lexer": "ipython3",
   "version": "3.7.6"
  },
  "varInspector": {
   "cols": {
    "lenName": 16,
    "lenType": 16,
    "lenVar": 40
   },
   "kernels_config": {
    "python": {
     "delete_cmd_postfix": "",
     "delete_cmd_prefix": "del ",
     "library": "var_list.py",
     "varRefreshCmd": "print(var_dic_list())"
    },
    "r": {
     "delete_cmd_postfix": ") ",
     "delete_cmd_prefix": "rm(",
     "library": "var_list.r",
     "varRefreshCmd": "cat(var_dic_list()) "
    }
   },
   "oldHeight": 339,
   "position": {
    "height": "40px",
    "left": "1540px",
    "right": "20px",
    "top": "120px",
    "width": "360px"
   },
   "types_to_exclude": [
    "module",
    "function",
    "builtin_function_or_method",
    "instance",
    "_Feature"
   ],
   "varInspector_section_display": "none",
   "window_display": true
  }
 },
 "nbformat": 4,
 "nbformat_minor": 4
}
